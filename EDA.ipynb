{
 "cells": [
  {
   "cell_type": "markdown",
   "id": "f98ebf60",
   "metadata": {},
   "source": [
    "# **Netflix Movies and TV Shows**\n",
    "**Complete Exploratory Data Analysis**"
   ]
  },
  {
   "cell_type": "markdown",
   "id": "eaca21a8",
   "metadata": {},
   "source": [
    "## 📊 About the Dataset\n",
    "\n",
    "**Description:**  \n",
    "The dataset was sourced from Kaggle, containing information about movies and TV shows available on Netflix. You can find the dataset at the following link:  \n",
    "[Netflix Movies and TV Shows Dataset on Kaggle](https://www.kaggle.com/datasets/anandshaw2001/netflix-movies-and-tv-shows)\n",
    "\n",
    "**Context:**  \n",
    "Streaming platforms like Netflix have become a major part of our entertainment consumption. With an ever-growing library of content, this dataset provides an opportunity to explore trends, content types, and regional availability across the platform. It is ideal for those interested in understanding the composition of Netflix's content or conducting exploratory data analysis (EDA).\n",
    "\n",
    "**Content:**  \n",
    "Each record (row) represents a unique title available on Netflix and includes details such as:\n",
    "- Type (Movie or TV Show)\n",
    "- Title\n",
    "- Director\n",
    "- Cast\n",
    "- Country\n",
    "- Date added\n",
    "- Release year\n",
    "- Rating\n",
    "- Duration\n",
    "- Genre\n",
    "- Description\n",
    "\n",
    "**Acknowledgements:**  \n",
    "The data was collected from Netflix via Kaggle and is made available for academic and exploratory purposes. Full credit to the original contributors for scraping and compiling this dataset.\n",
    "\n",
    "**Inspiration:**  \n",
    "This dataset opens the door to several interesting questions, such as:\n",
    "- What type of content does Netflix offer the most?\n",
    "- Which countries dominate the Netflix catalog?\n",
    "- How has the distribution of content changed over time?\n",
    "\n",
    "By analyzing this data, content creators, marketers, and data enthusiasts can uncover valuable insights into the world of digital streaming.\n"
   ]
  },
  {
   "cell_type": "markdown",
   "id": "9e695f79",
   "metadata": {},
   "source": [
    "# **Importing Libraries**"
   ]
  },
  {
   "cell_type": "code",
   "execution_count": 230,
   "id": "d1526da5",
   "metadata": {},
   "outputs": [],
   "source": [
    "import pandas as pd\n",
    "import numpy as np\n",
    "import matplotlib.pyplot as plt\n",
    "import seaborn as sns\n",
    "import plotly.express as px"
   ]
  },
  {
   "cell_type": "markdown",
   "id": "d9da987e",
   "metadata": {},
   "source": [
    "# **Load the data**"
   ]
  },
  {
   "cell_type": "code",
   "execution_count": 231,
   "id": "dcca9ea5",
   "metadata": {},
   "outputs": [
    {
     "data": {
      "text/html": [
       "<div>\n",
       "<style scoped>\n",
       "    .dataframe tbody tr th:only-of-type {\n",
       "        vertical-align: middle;\n",
       "    }\n",
       "\n",
       "    .dataframe tbody tr th {\n",
       "        vertical-align: top;\n",
       "    }\n",
       "\n",
       "    .dataframe thead th {\n",
       "        text-align: right;\n",
       "    }\n",
       "</style>\n",
       "<table border=\"1\" class=\"dataframe\">\n",
       "  <thead>\n",
       "    <tr style=\"text-align: right;\">\n",
       "      <th></th>\n",
       "      <th>show_id</th>\n",
       "      <th>type</th>\n",
       "      <th>title</th>\n",
       "      <th>director</th>\n",
       "      <th>cast</th>\n",
       "      <th>country</th>\n",
       "      <th>date_added</th>\n",
       "      <th>release_year</th>\n",
       "      <th>rating</th>\n",
       "      <th>duration</th>\n",
       "      <th>listed_in</th>\n",
       "      <th>description</th>\n",
       "    </tr>\n",
       "  </thead>\n",
       "  <tbody>\n",
       "    <tr>\n",
       "      <th>0</th>\n",
       "      <td>s1</td>\n",
       "      <td>Movie</td>\n",
       "      <td>Dick Johnson Is Dead</td>\n",
       "      <td>Kirsten Johnson</td>\n",
       "      <td>NaN</td>\n",
       "      <td>United States</td>\n",
       "      <td>September 25, 2021</td>\n",
       "      <td>2020</td>\n",
       "      <td>PG-13</td>\n",
       "      <td>90 min</td>\n",
       "      <td>Documentaries</td>\n",
       "      <td>As her father nears the end of his life, filmm...</td>\n",
       "    </tr>\n",
       "    <tr>\n",
       "      <th>1</th>\n",
       "      <td>s2</td>\n",
       "      <td>TV Show</td>\n",
       "      <td>Blood &amp; Water</td>\n",
       "      <td>NaN</td>\n",
       "      <td>Ama Qamata, Khosi Ngema, Gail Mabalane, Thaban...</td>\n",
       "      <td>South Africa</td>\n",
       "      <td>September 24, 2021</td>\n",
       "      <td>2021</td>\n",
       "      <td>TV-MA</td>\n",
       "      <td>2 Seasons</td>\n",
       "      <td>International TV Shows, TV Dramas, TV Mysteries</td>\n",
       "      <td>After crossing paths at a party, a Cape Town t...</td>\n",
       "    </tr>\n",
       "    <tr>\n",
       "      <th>2</th>\n",
       "      <td>s3</td>\n",
       "      <td>TV Show</td>\n",
       "      <td>Ganglands</td>\n",
       "      <td>Julien Leclercq</td>\n",
       "      <td>Sami Bouajila, Tracy Gotoas, Samuel Jouy, Nabi...</td>\n",
       "      <td>NaN</td>\n",
       "      <td>September 24, 2021</td>\n",
       "      <td>2021</td>\n",
       "      <td>TV-MA</td>\n",
       "      <td>1 Season</td>\n",
       "      <td>Crime TV Shows, International TV Shows, TV Act...</td>\n",
       "      <td>To protect his family from a powerful drug lor...</td>\n",
       "    </tr>\n",
       "    <tr>\n",
       "      <th>3</th>\n",
       "      <td>s4</td>\n",
       "      <td>TV Show</td>\n",
       "      <td>Jailbirds New Orleans</td>\n",
       "      <td>NaN</td>\n",
       "      <td>NaN</td>\n",
       "      <td>NaN</td>\n",
       "      <td>September 24, 2021</td>\n",
       "      <td>2021</td>\n",
       "      <td>TV-MA</td>\n",
       "      <td>1 Season</td>\n",
       "      <td>Docuseries, Reality TV</td>\n",
       "      <td>Feuds, flirtations and toilet talk go down amo...</td>\n",
       "    </tr>\n",
       "    <tr>\n",
       "      <th>4</th>\n",
       "      <td>s5</td>\n",
       "      <td>TV Show</td>\n",
       "      <td>Kota Factory</td>\n",
       "      <td>NaN</td>\n",
       "      <td>Mayur More, Jitendra Kumar, Ranjan Raj, Alam K...</td>\n",
       "      <td>India</td>\n",
       "      <td>September 24, 2021</td>\n",
       "      <td>2021</td>\n",
       "      <td>TV-MA</td>\n",
       "      <td>2 Seasons</td>\n",
       "      <td>International TV Shows, Romantic TV Shows, TV ...</td>\n",
       "      <td>In a city of coaching centers known to train I...</td>\n",
       "    </tr>\n",
       "  </tbody>\n",
       "</table>\n",
       "</div>"
      ],
      "text/plain": [
       "  show_id     type                  title         director  \\\n",
       "0      s1    Movie   Dick Johnson Is Dead  Kirsten Johnson   \n",
       "1      s2  TV Show          Blood & Water              NaN   \n",
       "2      s3  TV Show              Ganglands  Julien Leclercq   \n",
       "3      s4  TV Show  Jailbirds New Orleans              NaN   \n",
       "4      s5  TV Show           Kota Factory              NaN   \n",
       "\n",
       "                                                cast        country  \\\n",
       "0                                                NaN  United States   \n",
       "1  Ama Qamata, Khosi Ngema, Gail Mabalane, Thaban...   South Africa   \n",
       "2  Sami Bouajila, Tracy Gotoas, Samuel Jouy, Nabi...            NaN   \n",
       "3                                                NaN            NaN   \n",
       "4  Mayur More, Jitendra Kumar, Ranjan Raj, Alam K...          India   \n",
       "\n",
       "           date_added  release_year rating   duration  \\\n",
       "0  September 25, 2021          2020  PG-13     90 min   \n",
       "1  September 24, 2021          2021  TV-MA  2 Seasons   \n",
       "2  September 24, 2021          2021  TV-MA   1 Season   \n",
       "3  September 24, 2021          2021  TV-MA   1 Season   \n",
       "4  September 24, 2021          2021  TV-MA  2 Seasons   \n",
       "\n",
       "                                           listed_in  \\\n",
       "0                                      Documentaries   \n",
       "1    International TV Shows, TV Dramas, TV Mysteries   \n",
       "2  Crime TV Shows, International TV Shows, TV Act...   \n",
       "3                             Docuseries, Reality TV   \n",
       "4  International TV Shows, Romantic TV Shows, TV ...   \n",
       "\n",
       "                                         description  \n",
       "0  As her father nears the end of his life, filmm...  \n",
       "1  After crossing paths at a party, a Cape Town t...  \n",
       "2  To protect his family from a powerful drug lor...  \n",
       "3  Feuds, flirtations and toilet talk go down amo...  \n",
       "4  In a city of coaching centers known to train I...  "
      ]
     },
     "execution_count": 231,
     "metadata": {},
     "output_type": "execute_result"
    }
   ],
   "source": [
    "# load the dataset\n",
    "df = pd.read_csv('netflix_titles.csv')\n",
    "df.head()\n"
   ]
  },
  {
   "cell_type": "markdown",
   "id": "0599d5d0",
   "metadata": {},
   "source": [
    "# **Data Cleaning and Preprocessing**"
   ]
  },
  {
   "cell_type": "code",
   "execution_count": 232,
   "id": "e465548b",
   "metadata": {},
   "outputs": [
    {
     "name": "stdout",
     "output_type": "stream",
     "text": [
      "The columns of the dataset are: Index(['show_id', 'type', 'title', 'director', 'cast', 'country', 'date_added',\n",
      "       'release_year', 'rating', 'duration', 'listed_in', 'description'],\n",
      "      dtype='object')\n"
     ]
    }
   ],
   "source": [
    "print(f'The columns of the dataset are: {df.columns}')"
   ]
  },
  {
   "cell_type": "code",
   "execution_count": 233,
   "id": "8e3c30cf",
   "metadata": {},
   "outputs": [
    {
     "name": "stdout",
     "output_type": "stream",
     "text": [
      "Total rows in the datasets are: 8807\n"
     ]
    }
   ],
   "source": [
    "print(f'Total rows in the datasets are: {df.shape[0]}')"
   ]
  },
  {
   "cell_type": "code",
   "execution_count": 234,
   "id": "b02566bb",
   "metadata": {},
   "outputs": [
    {
     "name": "stdout",
     "output_type": "stream",
     "text": [
      "<class 'pandas.core.frame.DataFrame'>\n",
      "RangeIndex: 8807 entries, 0 to 8806\n",
      "Data columns (total 12 columns):\n",
      " #   Column        Non-Null Count  Dtype \n",
      "---  ------        --------------  ----- \n",
      " 0   show_id       8807 non-null   object\n",
      " 1   type          8807 non-null   object\n",
      " 2   title         8807 non-null   object\n",
      " 3   director      6173 non-null   object\n",
      " 4   cast          7982 non-null   object\n",
      " 5   country       7976 non-null   object\n",
      " 6   date_added    8797 non-null   object\n",
      " 7   release_year  8807 non-null   int64 \n",
      " 8   rating        8803 non-null   object\n",
      " 9   duration      8804 non-null   object\n",
      " 10  listed_in     8807 non-null   object\n",
      " 11  description   8807 non-null   object\n",
      "dtypes: int64(1), object(11)\n",
      "memory usage: 825.8+ KB\n"
     ]
    }
   ],
   "source": [
    "df.info()"
   ]
  },
  {
   "cell_type": "code",
   "execution_count": 235,
   "id": "50ed0162",
   "metadata": {},
   "outputs": [
    {
     "data": {
      "text/plain": [
       "director        2634\n",
       "country          831\n",
       "cast             825\n",
       "date_added        10\n",
       "rating             4\n",
       "duration           3\n",
       "show_id            0\n",
       "type               0\n",
       "title              0\n",
       "release_year       0\n",
       "listed_in          0\n",
       "description        0\n",
       "dtype: int64"
      ]
     },
     "execution_count": 235,
     "metadata": {},
     "output_type": "execute_result"
    }
   ],
   "source": [
    "# check for missing values\n",
    "df.isnull().sum().sort_values(ascending=False)"
   ]
  },
  {
   "cell_type": "code",
   "execution_count": 236,
   "id": "3526b61a",
   "metadata": {},
   "outputs": [
    {
     "data": {
      "text/plain": [
       "director        29.908028\n",
       "country          9.435676\n",
       "cast             9.367549\n",
       "date_added       0.113546\n",
       "rating           0.045418\n",
       "duration         0.034064\n",
       "show_id          0.000000\n",
       "type             0.000000\n",
       "title            0.000000\n",
       "release_year     0.000000\n",
       "listed_in        0.000000\n",
       "description      0.000000\n",
       "dtype: float64"
      ]
     },
     "execution_count": 236,
     "metadata": {},
     "output_type": "execute_result"
    }
   ],
   "source": [
    "df.isnull().sum().sort_values(ascending=False) / len(df) * 100"
   ]
  },
  {
   "cell_type": "code",
   "execution_count": 237,
   "id": "e8e3be3a",
   "metadata": {},
   "outputs": [
    {
     "data": {
      "image/png": "[encoded data removed]",
      "text/plain": [
       "<Figure size 1200x500 with 1 Axes>"
      ]
     },
     "metadata": {},
     "output_type": "display_data"
    }
   ],
   "source": [
    "# visualizing missing values using heatmap\n",
    "plt.figure(figsize=(12, 5))\n",
    "sns.heatmap(df.isnull(), cbar=False, cmap='viridis')\n",
    "plt.title('Missing Values Heatmap')\n",
    "plt.show()"
   ]
  },
  {
   "cell_type": "code",
   "execution_count": 238,
   "id": "aa8513d9",
   "metadata": {},
   "outputs": [],
   "source": [
    "# dropping the column of cast and description\n",
    "df.drop(columns=['cast'], inplace=True)\n",
    "df.drop(columns=['description'], inplace=True)"
   ]
  },
  {
   "cell_type": "code",
   "execution_count": 239,
   "id": "d37f88ac",
   "metadata": {},
   "outputs": [
    {
     "data": {
      "text/plain": [
       "array(['PG-13', 'TV-MA', 'PG', 'TV-14', 'TV-PG', 'TV-Y', 'TV-Y7', 'R',\n",
       "       'TV-G', 'G', 'NC-17', '74 min', '84 min', '66 min', 'NR', nan,\n",
       "       'TV-Y7-FV', 'UR'], dtype=object)"
      ]
     },
     "execution_count": 239,
     "metadata": {},
     "output_type": "execute_result"
    }
   ],
   "source": [
    "# write all the values of rating\n",
    "ratings = df['rating'].unique()\n",
    "ratings"
   ]
  },
  {
   "cell_type": "code",
   "execution_count": 240,
   "id": "cca56b07",
   "metadata": {},
   "outputs": [
    {
     "data": {
      "text/plain": [
       "rating\n",
       "TV-MA       3207\n",
       "TV-14       2160\n",
       "TV-PG        863\n",
       "R            799\n",
       "PG-13        490\n",
       "TV-Y7        334\n",
       "TV-Y         307\n",
       "PG           287\n",
       "TV-G         220\n",
       "NR            80\n",
       "G             41\n",
       "TV-Y7-FV       6\n",
       "NC-17          3\n",
       "UR             3\n",
       "74 min         1\n",
       "84 min         1\n",
       "66 min         1\n",
       "Name: count, dtype: int64"
      ]
     },
     "execution_count": 240,
     "metadata": {},
     "output_type": "execute_result"
    }
   ],
   "source": [
    "df['rating'].value_counts()"
   ]
  },
  {
   "cell_type": "code",
   "execution_count": 241,
   "id": "3e64f317",
   "metadata": {},
   "outputs": [],
   "source": [
    "# This function simplifies the 'rating' column into broader categories for easier analysis.\n",
    "# It maps specific ratings to general categories such as 'Everyone', '10+', '13+', '17+', '18+', 'Unrated', or 'Unknown'.\n",
    "# This helps in grouping similar ratings together and provides a more concise view of the data.\n",
    "def simplify_rating(r):\n",
    "    if r in ['G', 'TV-Y', 'TV-G', 'TV-Y7', 'TV-Y7-FV']:\n",
    "        return 'Everyone'\n",
    "    elif r in ['PG', 'TV-PG']:\n",
    "        return '10+'\n",
    "    elif r in ['PG-13', 'TV-14']:\n",
    "        return '13+'\n",
    "    elif r in ['R', 'TV-MA']:\n",
    "        return '17+'\n",
    "    elif r in ['NC-17']:\n",
    "        return '18+'\n",
    "    elif r in ['NR', 'UR']:\n",
    "        return 'Unrated'\n",
    "    else:\n",
    "        return 'Unknown'\n",
    "\n"
   ]
  },
  {
   "cell_type": "code",
   "execution_count": 242,
   "id": "0a49288b",
   "metadata": {},
   "outputs": [],
   "source": [
    "# Apply the function to your dataframe\n",
    "df['categorize_rating'] = df['rating'].apply(simplify_rating)"
   ]
  },
  {
   "cell_type": "code",
   "execution_count": 243,
   "id": "a4bb4021",
   "metadata": {},
   "outputs": [
    {
     "data": {
      "text/plain": [
       "categorize_rating\n",
       "17+         4006\n",
       "13+         2650\n",
       "10+         1150\n",
       "Everyone     908\n",
       "Unrated       83\n",
       "Unknown        7\n",
       "18+            3\n",
       "Name: count, dtype: int64"
      ]
     },
     "execution_count": 243,
     "metadata": {},
     "output_type": "execute_result"
    }
   ],
   "source": [
    "df['categorize_rating'].value_counts()"
   ]
  },
  {
   "cell_type": "code",
   "execution_count": 244,
   "id": "a316e0f0",
   "metadata": {},
   "outputs": [
    {
     "data": {
      "text/plain": [
       "0"
      ]
     },
     "execution_count": 244,
     "metadata": {},
     "output_type": "execute_result"
    }
   ],
   "source": [
    "# filling missing values of rating with mode\n",
    "df['rating'].fillna(df['rating'].mode()[0], inplace=True)\n",
    "# check for missing values again\n",
    "df['rating'].isnull().sum()"
   ]
  },
  {
   "cell_type": "code",
   "execution_count": 245,
   "id": "29dbca28",
   "metadata": {},
   "outputs": [
    {
     "data": {
      "text/plain": [
       "0"
      ]
     },
     "execution_count": 245,
     "metadata": {},
     "output_type": "execute_result"
    }
   ],
   "source": [
    "# remove missing values of duration\n",
    "df.dropna(subset=['duration'], inplace=True)\n",
    "\n",
    "# check for missing values only in duration\n",
    "df['duration'].isnull().sum()"
   ]
  },
  {
   "cell_type": "code",
   "execution_count": 246,
   "id": "b644ceb4",
   "metadata": {},
   "outputs": [],
   "source": [
    "# removing the rows with missing values in date added\n",
    "df.dropna(subset=['date_added'], inplace=True)\n",
    "\n",
    "# check for missing values only in date added\n",
    "df['date_added'].isnull().sum()\n",
    "\n",
    "# now converting date_added to datetime format\n",
    "df['date_added'] = pd.to_datetime(df['date_added'], format='%B %d, %Y', errors='coerce')\n"
   ]
  },
  {
   "cell_type": "code",
   "execution_count": 247,
   "id": "1dc749d9",
   "metadata": {},
   "outputs": [
    {
     "data": {
      "text/plain": [
       "0"
      ]
     },
     "execution_count": 247,
     "metadata": {},
     "output_type": "execute_result"
    }
   ],
   "source": [
    "# filling missing values of country with 'Unknown'\n",
    "df['country'].fillna('Unknown', inplace=True)\n",
    "# check for missing values again only in country\n",
    "df['country'].isnull().sum()"
   ]
  },
  {
   "cell_type": "code",
   "execution_count": 248,
   "id": "6c1bd4d5",
   "metadata": {},
   "outputs": [
    {
     "data": {
      "text/plain": [
       "0"
      ]
     },
     "execution_count": 248,
     "metadata": {},
     "output_type": "execute_result"
    }
   ],
   "source": [
    "# filling missing values of director with 'Unknown'\n",
    "df['director'].fillna('Unkknown', inplace=True)\n",
    "# check for missing values again only in director\n",
    "df['director'].isnull().sum()"
   ]
  },
  {
   "cell_type": "code",
   "execution_count": 249,
   "id": "0aaecb81",
   "metadata": {},
   "outputs": [
    {
     "data": {
      "text/plain": [
       "array(['Documentaries', 'International TV Shows', 'Crime TV Shows',\n",
       "       'Docuseries', 'TV Dramas', 'Children & Family Movies', 'Dramas',\n",
       "       'British TV Shows', 'Comedies', 'TV Comedies', 'Thrillers',\n",
       "       'Horror Movies', \"Kids' TV\", 'Action & Adventure', 'Reality TV',\n",
       "       'Anime Series', 'International Movies', 'Sci-Fi & Fantasy',\n",
       "       'Classic Movies', 'TV Shows', 'Stand-Up Comedy',\n",
       "       'TV Action & Adventure', 'Movies', 'Stand-Up Comedy & Talk Shows',\n",
       "       'Classic & Cult TV', 'Anime Features', 'Romantic TV Shows',\n",
       "       'Cult Movies', 'Independent Movies', 'TV Horror',\n",
       "       'Spanish-Language TV Shows', 'Music & Musicals', 'Romantic Movies',\n",
       "       'LGBTQ Movies', 'TV Sci-Fi & Fantasy', 'Sports Movies'],\n",
       "      dtype=object)"
      ]
     },
     "execution_count": 249,
     "metadata": {},
     "output_type": "execute_result"
    }
   ],
   "source": [
    "# creating a new column 'genre' by splitting the 'listed_in' column which helps us in visualizing the data and analyzing the data better\n",
    "df['genre'] = df['listed_in'].apply(lambda x: x.split(',')[0] if isinstance(x, str) else x)\n",
    "# check the unique values of genre\n",
    "df['genre'].unique()"
   ]
  },
  {
   "cell_type": "code",
   "execution_count": 250,
   "id": "c41b762e",
   "metadata": {},
   "outputs": [
    {
     "name": "stdout",
     "output_type": "stream",
     "text": [
      "<class 'pandas.core.frame.DataFrame'>\n",
      "Index: 8794 entries, 0 to 8806\n",
      "Data columns (total 12 columns):\n",
      " #   Column             Non-Null Count  Dtype         \n",
      "---  ------             --------------  -----         \n",
      " 0   show_id            8794 non-null   object        \n",
      " 1   type               8794 non-null   object        \n",
      " 2   title              8794 non-null   object        \n",
      " 3   director           8794 non-null   object        \n",
      " 4   country            8794 non-null   object        \n",
      " 5   date_added         8706 non-null   datetime64[ns]\n",
      " 6   release_year       8794 non-null   int64         \n",
      " 7   rating             8794 non-null   object        \n",
      " 8   duration           8794 non-null   object        \n",
      " 9   listed_in          8794 non-null   object        \n",
      " 10  categorize_rating  8794 non-null   object        \n",
      " 11  genre              8794 non-null   object        \n",
      "dtypes: datetime64[ns](1), int64(1), object(10)\n",
      "memory usage: 893.1+ KB\n"
     ]
    }
   ],
   "source": [
    "df.info()"
   ]
  },
  {
   "cell_type": "code",
   "execution_count": 251,
   "id": "b5f932eb",
   "metadata": {},
   "outputs": [
    {
     "name": "stdout",
     "output_type": "stream",
     "text": [
      "Total entries with 'season': 2666\n",
      "Total number of movies in the dataset are: 6128\n",
      "Total values in duration column are: 8794\n"
     ]
    }
   ],
   "source": [
    "total_seasons = df['duration'].str.contains('season', case=False, na=False).sum()\n",
    "print(\"Total entries with 'season':\", total_seasons)\n",
    "\n",
    "# check for total values which contains \"min\" in duration column\n",
    "mint = df['duration'].str.contains('min').sum()\n",
    "print(f'Total number of movies in the dataset are: {mint}')\n",
    "\n",
    "print(f'Total values in duration column are: {total_seasons + mint}')"
   ]
  },
  {
   "cell_type": "code",
   "execution_count": 252,
   "id": "b46e6a3b",
   "metadata": {},
   "outputs": [
    {
     "name": "stdout",
     "output_type": "stream",
     "text": [
      "Remaining rows and columns in the dataset after cleaning the data: (8794, 12)\n"
     ]
    }
   ],
   "source": [
    "print(f'Remaining rows and columns in the dataset after cleaning the data: {df.shape}')"
   ]
  },
  {
   "cell_type": "markdown",
   "id": "c30130bc",
   "metadata": {},
   "source": [
    "# **HANDLING OUTLIERS**"
   ]
  },
  {
   "cell_type": "markdown",
   "id": "cc941f10",
   "metadata": {},
   "source": [
    "## First we will check the outliers in 'duration' column"
   ]
  },
  {
   "cell_type": "code",
   "execution_count": 253,
   "id": "b6967438",
   "metadata": {},
   "outputs": [
    {
     "name": "stdout",
     "output_type": "stream",
     "text": [
      "Unique 'season' values in duration column:\n",
      "['2 Seasons' '1 Season' '9 Seasons' '4 Seasons' '5 Seasons' '3 Seasons'\n",
      " '6 Seasons' '7 Seasons' '10 Seasons' '8 Seasons' '17 Seasons'\n",
      " '13 Seasons' '15 Seasons' '12 Seasons' '11 Seasons']\n",
      "Season-wise value counts:\n",
      "duration\n",
      "1 Season      1793\n",
      "2 Seasons      421\n",
      "3 Seasons      198\n",
      "4 Seasons       94\n",
      "5 Seasons       64\n",
      "6 Seasons       33\n",
      "7 Seasons       23\n",
      "8 Seasons       17\n",
      "9 Seasons        9\n",
      "10 Seasons       6\n",
      "13 Seasons       2\n",
      "15 Seasons       2\n",
      "12 Seasons       2\n",
      "17 Seasons       1\n",
      "11 Seasons       1\n",
      "Name: count, dtype: int64\n"
     ]
    }
   ],
   "source": [
    "# Step 1: Filter out only the shows (where 'season' is present in 'duration')\n",
    "df_shows = df[df['duration'].str.contains('season', case=False, na=False)]\n",
    "\n",
    "# Step 2: Check unique values\n",
    "unique_season_values = df_shows['duration'].unique()\n",
    "\n",
    "# Step 3: Print the result\n",
    "print(\"Unique 'season' values in duration column:\")\n",
    "print(unique_season_values)\n",
    "\n",
    "season_counts = df_shows['duration'].value_counts()\n",
    "\n",
    "# Step 3: Print the result\n",
    "print(\"Season-wise value counts:\")\n",
    "print(season_counts)"
   ]
  },
  {
   "cell_type": "markdown",
   "id": "0672f33b",
   "metadata": {},
   "source": [
    "\n",
    "### Outliers in Seasons\n",
    "The `season` column does not contain any outliers. All values in this column are considered real and valid.\n"
   ]
  },
  {
   "cell_type": "code",
   "execution_count": 254,
   "id": "af00cb1a",
   "metadata": {},
   "outputs": [
    {
     "name": "stdout",
     "output_type": "stream",
     "text": [
      "Unique durations in movies:\n",
      "['90 min' '91 min' '125 min' '104 min' '127 min' '67 min' '94 min'\n",
      " '161 min' '61 min' '166 min' '147 min' '103 min' '97 min' '106 min'\n",
      " '111 min' '110 min' '105 min' '96 min' '124 min' '116 min' '98 min'\n",
      " '23 min' '115 min' '122 min' '99 min' '88 min' '100 min' '102 min'\n",
      " '93 min' '95 min' '85 min' '83 min' '113 min' '13 min' '182 min' '48 min'\n",
      " '145 min' '87 min' '92 min' '80 min' '117 min' '128 min' '119 min'\n",
      " '143 min' '114 min' '118 min' '108 min' '63 min' '121 min' '142 min'\n",
      " '154 min' '120 min' '82 min' '109 min' '101 min' '86 min' '229 min'\n",
      " '76 min' '89 min' '156 min' '112 min' '107 min' '129 min' '135 min'\n",
      " '136 min' '165 min' '150 min' '133 min' '70 min' '84 min' '140 min'\n",
      " '78 min' '64 min' '59 min' '139 min' '69 min' '148 min' '189 min'\n",
      " '141 min' '130 min' '138 min' '81 min' '132 min' '123 min' '65 min'\n",
      " '68 min' '66 min' '62 min' '74 min' '131 min' '39 min' '46 min' '38 min'\n",
      " '126 min' '155 min' '159 min' '137 min' '12 min' '273 min' '36 min'\n",
      " '34 min' '77 min' '60 min' '49 min' '58 min' '72 min' '204 min' '212 min'\n",
      " '25 min' '73 min' '29 min' '47 min' '32 min' '35 min' '71 min' '149 min'\n",
      " '33 min' '15 min' '54 min' '224 min' '162 min' '37 min' '75 min' '79 min'\n",
      " '55 min' '158 min' '164 min' '173 min' '181 min' '185 min' '21 min'\n",
      " '24 min' '51 min' '151 min' '42 min' '22 min' '134 min' '177 min'\n",
      " '52 min' '14 min' '53 min' '8 min' '57 min' '28 min' '50 min' '9 min'\n",
      " '26 min' '45 min' '171 min' '27 min' '44 min' '146 min' '20 min'\n",
      " '157 min' '17 min' '203 min' '41 min' '30 min' '194 min' '233 min'\n",
      " '237 min' '230 min' '195 min' '253 min' '152 min' '190 min' '160 min'\n",
      " '208 min' '180 min' '144 min' '5 min' '174 min' '170 min' '192 min'\n",
      " '209 min' '187 min' '172 min' '16 min' '186 min' '11 min' '193 min'\n",
      " '176 min' '56 min' '169 min' '40 min' '10 min' '3 min' '168 min'\n",
      " '312 min' '153 min' '214 min' '31 min' '163 min' '19 min' '179 min'\n",
      " '43 min' '200 min' '196 min' '167 min' '178 min' '228 min' '18 min'\n",
      " '205 min' '201 min' '191 min']\n"
     ]
    }
   ],
   "source": [
    "df_movies = df[df['duration'].str.contains('min', case=False, na=False)]\n",
    "\n",
    "# check unique values in duration column\n",
    "unique_durations = df_movies['duration'].unique()\n",
    "print(\"Unique durations in movies:\")\n",
    "print(unique_durations)"
   ]
  },
  {
   "cell_type": "code",
   "execution_count": 255,
   "id": "bf306eb2",
   "metadata": {},
   "outputs": [
    {
     "name": "stdout",
     "output_type": "stream",
     "text": [
      "Duration value counts in movies:\n",
      "duration\n",
      "191 min    1\n",
      "214 min    1\n",
      "9 min      1\n",
      "273 min    1\n",
      "43 min     1\n",
      "200 min    1\n",
      "196 min    1\n",
      "167 min    1\n",
      "178 min    1\n",
      "228 min    1\n",
      "Name: count, dtype: int64\n"
     ]
    }
   ],
   "source": [
    "duration_counts = df_movies['duration'].value_counts().sort_values(ascending=True).head(10)\n",
    "print(\"Duration value counts in movies:\")\n",
    "print(duration_counts)"
   ]
  },
  {
   "cell_type": "code",
   "execution_count": 256,
   "id": "186e9f7b",
   "metadata": {
    "vscode": {
     "languageId": "ruby"
    }
   },
   "outputs": [],
   "source": [
    "# Step 1: Separate shows\n",
    "df_shows = df[df['duration'].str.contains('season', case=False, na=False)].copy()\n",
    "\n",
    "# Step 2: Keep shows as-is (no outlier removal needed)\n",
    "df_shows_clean = df_shows.copy()\n",
    "\n",
    "# Movies have 'min' in the duration\n",
    "df_movies = df[df['duration'].str.contains('min', case=False, na=False)].copy()\n",
    "\n",
    "# Step 2: Convert durations to numeric values\n",
    "# For movies: extract number of minutes\n",
    "df_movies['duration_min'] = df_movies['duration'].str.extract('(\\d+)').astype(int)"
   ]
  },
  {
   "cell_type": "code",
   "execution_count": 257,
   "id": "e565fd95",
   "metadata": {
    "vscode": {
     "languageId": "ruby"
    }
   },
   "outputs": [
    {
     "name": "stdout",
     "output_type": "stream",
     "text": [
      "Total movie outliers found: 450\n"
     ]
    }
   ],
   "source": [
    "    # applying IQR method to find outliers in movies\n",
    "    Q1 = df_movies['duration_min'].quantile(0.25)\n",
    "    Q3 = df_movies['duration_min'].quantile(0.75)\n",
    "    IQR = Q3 - Q1\n",
    "    upper_bound_mov = Q3 + (1.5 * IQR)\n",
    "    lower_bound_mov = Q1 - (1.5 * IQR)\n",
    "    # Filter out outliers\n",
    "    outliers_movies = df_movies[(df_movies['duration_min'] < lower_bound_mov) | (df_movies['duration_min'] > upper_bound_mov)]\n",
    "    # See how many outliers were found\n",
    "    print(\"Total movie outliers found:\", len(outliers_movies))\n"
   ]
  },
  {
   "cell_type": "code",
   "execution_count": 258,
   "id": "cc124563",
   "metadata": {},
   "outputs": [
    {
     "data": {
      "image/png": "[encoded data removed]",
      "text/plain": [
       "<Figure size 1000x600 with 1 Axes>"
      ]
     },
     "metadata": {},
     "output_type": "display_data"
    }
   ],
   "source": [
    "# creating boxplot to visualize outliers in movies\n",
    "plt.figure(figsize=(10, 6))\n",
    "sns.boxplot(x='duration_min', data=df_movies)\n",
    "plt.title('Boxplot of Duration in Movies')\n",
    "plt.xlabel('Duration (in minutes)')\n",
    "plt.show()"
   ]
  },
  {
   "cell_type": "code",
   "execution_count": 259,
   "id": "6bb773f2",
   "metadata": {},
   "outputs": [
    {
     "data": {
      "image/png": "[encoded data removed]",
      "text/plain": [
       "<Figure size 1000x600 with 1 Axes>"
      ]
     },
     "metadata": {},
     "output_type": "display_data"
    }
   ],
   "source": [
    "# remove outliers from the movies dataset\n",
    "df_movies_clean = df_movies[\n",
    "    (df_movies['duration_min'] > lower_bound_mov) & \n",
    "    (df_movies['duration_min'] < upper_bound_mov)\n",
    "]\n",
    "\n",
    "# creating boxplot after removing outliers in movies\n",
    "plt.figure(figsize=(10, 6))\n",
    "sns.boxplot(x='duration_min', data=df_movies_clean)\n",
    "plt.title('Boxplot of Duration in Movies (After Outlier Removal)')\n",
    "plt.xlabel('Duration (in minutes)')\n",
    "plt.show()\n"
   ]
  },
  {
   "cell_type": "code",
   "execution_count": 260,
   "id": "5dfab3a3",
   "metadata": {},
   "outputs": [],
   "source": [
    "# Merge cleaned movies and shows back into one DataFrame\n",
    "df_cleaned = pd.concat([df_movies_clean, df_shows_clean], ignore_index=True)\n",
    "\n",
    "# Replace the original df (optional, if you want to keep only cleaned data)\n",
    "df = df_cleaned.copy()\n"
   ]
  },
  {
   "cell_type": "code",
   "execution_count": 261,
   "id": "8dfea338",
   "metadata": {},
   "outputs": [
    {
     "data": {
      "text/plain": [
       "8344"
      ]
     },
     "execution_count": 261,
     "metadata": {},
     "output_type": "execute_result"
    }
   ],
   "source": [
    "df.shape[0]"
   ]
  },
  {
   "cell_type": "markdown",
   "id": "773c6225",
   "metadata": {},
   "source": [
    "## Now, we will check outliers in 'release_year' column"
   ]
  },
  {
   "cell_type": "code",
   "execution_count": 262,
   "id": "babebf2d",
   "metadata": {},
   "outputs": [
    {
     "data": {
      "image/png": "[encoded data removed]",
      "text/plain": [
       "<Figure size 1000x600 with 1 Axes>"
      ]
     },
     "metadata": {},
     "output_type": "display_data"
    }
   ],
   "source": [
    "# creating histplot to visualize the distribution of release_year\n",
    "plt.figure(figsize=(10, 6))\n",
    "sns.histplot(df['release_year'], bins=30, kde=True)\n",
    "plt.title('Distribution of Release Year')\n",
    "plt.xlabel('Release Year')\n",
    "plt.ylabel('Frequency')\n",
    "plt.show()"
   ]
  },
  {
   "cell_type": "markdown",
   "id": "f8a89db2",
   "metadata": {},
   "source": [
    "### Validity of the `release_year` Column\n",
    "\n",
    "The `release_year` column will be considered valid as it contains realistic and meaningful values that align with the context of the dataset. The data in this column represents the year of release for movies and TV shows, and no anomalies or unrealistic entries have been identified."
   ]
  },
  {
   "cell_type": "code",
   "execution_count": 263,
   "id": "f0448553",
   "metadata": {},
   "outputs": [
    {
     "name": "stdout",
     "output_type": "stream",
     "text": [
      "Total number of rows and columns in the dataset after removing outliers: (8344, 13)\n"
     ]
    }
   ],
   "source": [
    "# total number of rows and columns in the dataset after removing outliers\n",
    "print(f'Total number of rows and columns in the dataset after removing outliers: {df.shape}')"
   ]
  },
  {
   "cell_type": "markdown",
   "id": "cb9e396c",
   "metadata": {},
   "source": [
    "# **Check For Duplicates**"
   ]
  },
  {
   "cell_type": "code",
   "execution_count": 264,
   "id": "c43f013d",
   "metadata": {},
   "outputs": [
    {
     "name": "stdout",
     "output_type": "stream",
     "text": [
      "Total number of duplicate rows in the dataset: 0\n"
     ]
    }
   ],
   "source": [
    "# checking duplicates in the dataset\n",
    "duplicate = df.duplicated().sum()\n",
    "print(f'Total number of duplicate rows in the dataset: {duplicate}')"
   ]
  },
  {
   "cell_type": "code",
   "execution_count": 265,
   "id": "900606dc",
   "metadata": {},
   "outputs": [
    {
     "name": "stdout",
     "output_type": "stream",
     "text": [
      "Cleaned dataset saved as 'netflix_titles_cleaned.csv'\n"
     ]
    }
   ],
   "source": [
    "# saving the cleaned dataset to a new CSV file\n",
    "df.to_csv('netflix_titles_cleaned.csv', index=False)\n",
    "print(\"Cleaned dataset saved as 'netflix_titles_cleaned.csv'\")"
   ]
  },
  {
   "cell_type": "markdown",
   "id": "dfcf6ff8",
   "metadata": {},
   "source": [
    "\n",
    "\n",
    "# **Data Visualization**\n"
   ]
  },
  {
   "cell_type": "markdown",
   "id": "b5696da8",
   "metadata": {},
   "source": [
    "### 1. Distribution of Movies and Shows"
   ]
  },
  {
   "cell_type": "code",
   "execution_count": 266,
   "id": "6e127a53",
   "metadata": {},
   "outputs": [
    {
     "data": {
      "image/png": "[encoded data removed]",
      "text/plain": [
       "<Figure size 800x600 with 1 Axes>"
      ]
     },
     "metadata": {},
     "output_type": "display_data"
    }
   ],
   "source": [
    "# Generating a pie chart to visualize the proportion of Movies and TV Shows in the dataset\n",
    "plt.figure(figsize=(8, 6))\n",
    "df['type'].value_counts().plot.pie(autopct='%1.1f%%', startangle=90, colors=['#ff9999','#66b3ff'])\n",
    "plt.title('Distribution of Movies and Shows')\n",
    "plt.ylabel('')\n",
    "plt.show()\n"
   ]
  },
  {
   "cell_type": "markdown",
   "id": "9139908b",
   "metadata": {},
   "source": [
    "### 2. Distribution of Movie Durations"
   ]
  },
  {
   "cell_type": "code",
   "execution_count": 267,
   "id": "784759cb",
   "metadata": {},
   "outputs": [
    {
     "data": {
      "image/png": "[encoded data removed]",
      "text/plain": [
       "<Figure size 1000x600 with 1 Axes>"
      ]
     },
     "metadata": {},
     "output_type": "display_data"
    }
   ],
   "source": [
    "# Visualizing the distribution of movie durations using a histogram and KDE plot -->\n",
    "plt.figure(figsize=(10, 6))\n",
    "sns.histplot(df_movies_clean['duration_min'], bins=30, kde=True, color='blue')\n",
    "plt.title('Distribution of Movie Durations')\n",
    "plt.xlabel('Duration (in minutes)')\n",
    "plt.ylabel('Frequency')\n",
    "plt.show()"
   ]
  },
  {
   "cell_type": "markdown",
   "id": "d815202d",
   "metadata": {},
   "source": [
    "### 3. Bar Chart of Ratings:"
   ]
  },
  {
   "cell_type": "code",
   "execution_count": 268,
   "id": "0c399c0d",
   "metadata": {},
   "outputs": [
    {
     "name": "stderr",
     "output_type": "stream",
     "text": [
      "C:\\Users\\Dell\\AppData\\Local\\Temp\\ipykernel_2172\\2985332618.py:3: FutureWarning:\n",
      "\n",
      "\n",
      "\n",
      "Passing `palette` without assigning `hue` is deprecated and will be removed in v0.14.0. Assign the `x` variable to `hue` and set `legend=False` for the same effect.\n",
      "\n",
      "\n"
     ]
    },
    {
     "data": {
      "image/png": "[encoded data removed]",
      "text/plain": [
       "<Figure size 1200x600 with 1 Axes>"
      ]
     },
     "metadata": {},
     "output_type": "display_data"
    }
   ],
   "source": [
    "# Plotting the bar chart for categorized ratings\n",
    "plt.figure(figsize=(12, 6))\n",
    "sns.countplot(data=df, x='categorize_rating', order=df['categorize_rating'].value_counts().index, palette='viridis')\n",
    "plt.title('Count of Movies and Shows by Categorized Ratings')\n",
    "plt.xlabel('Categorized Ratings')\n",
    "plt.ylabel('Count')\n",
    "plt.xticks(rotation=45)\n",
    "plt.show()"
   ]
  },
  {
   "cell_type": "markdown",
   "id": "ff7d0c11",
   "metadata": {},
   "source": [
    "### 4. Content Added Over Time:"
   ]
  },
  {
   "cell_type": "code",
   "execution_count": 269,
   "id": "d17d3845",
   "metadata": {},
   "outputs": [
    {
     "data": {
      "application/vnd.plotly.v1+json": {
       "config": {
        "plotlyServerURL": "https://plot.ly"
       },
       "data": [
        {
         "hovertemplate": "x=%{x}<br>y=%{y}<extra></extra>",
         "legendgroup": "",
         "line": {
          "color": "#636efa",
          "dash": "solid"
         },
         "marker": {
          "symbol": "circle"
         },
         "mode": "lines+markers",
         "name": "",
         "orientation": "v",
         "showlegend": false,
         "type": "scatter",
         "x": [
          "2008-01",
          "2008-02",
          "2009-05",
          "2010-11",
          "2011-05",
          "2011-09",
          "2011-10",
          "2012-02",
          "2012-11",
          "2013-03",
          "2013-08",
          "2013-09",
          "2013-10",
          "2013-11",
          "2013-12",
          "2014-01",
          "2014-02",
          "2014-04",
          "2014-06",
          "2014-07",
          "2014-08",
          "2014-09",
          "2014-10",
          "2014-11",
          "2014-12",
          "2015-01",
          "2015-02",
          "2015-03",
          "2015-04",
          "2015-05",
          "2015-06",
          "2015-07",
          "2015-08",
          "2015-09",
          "2015-10",
          "2015-11",
          "2015-12",
          "2016-01",
          "2016-02",
          "2016-03",
          "2016-04",
          "2016-05",
          "2016-06",
          "2016-07",
          "2016-08",
          "2016-09",
          "2016-10",
          "2016-11",
          "2016-12",
          "2017-01",
          "2017-02",
          "2017-03",
          "2017-04",
          "2017-05",
          "2017-06",
          "2017-07",
          "2017-08",
          "2017-09",
          "2017-10",
          "2017-11",
          "2017-12",
          "2018-01",
          "2018-02",
          "2018-03",
          "2018-04",
          "2018-05",
          "2018-06",
          "2018-07",
          "2018-08",
          "2018-09",
          "2018-10",
          "2018-11",
          "2018-12",
          "2019-01",
          "2019-02",
          "2019-03",
          "2019-04",
          "2019-05",
          "2019-06",
          "2019-07",
          "2019-08",
          "2019-09",
          "2019-10",
          "2019-11",
          "2019-12",
          "2020-01",
          "2020-02",
          "2020-03",
          "2020-04",
          "2020-05",
          "2020-06",
          "2020-07",
          "2020-08",
          "2020-09",
          "2020-10",
          "2020-11",
          "2020-12",
          "2021-01",
          "2021-02",
          "2021-03",
          "2021-04",
          "2021-05",
          "2021-06",
          "2021-07",
          "2021-08",
          "2021-09"
         ],
         "xaxis": "x",
         "y": {
          "bdata": "AQABAAEAAQABAAEACwABAAEAAQABAAIAAgABAAIAAgACAAEAAQABAAEAAQAEAAQABAABAAIABAAFAAUABQAGAAIABgAOAAMAEQAiAA0ADwAVAAkAEgAbABwAKgAxACkAWgBGAFAAcgBZAFEAVQBIAGQAagB6AFAAbQB1AFMAlQBpAFUATACTAJkAeQCwAJIApQCXAIoAqgCdAIcAowCXAH8AcwC3AO8AugDEAG0AfQCgAI4AlwCJAHkAnwCfAI8AnwCAAGoAaQCwAIEAxAD7ALAAsAA=",
          "dtype": "i2"
         },
         "yaxis": "y"
        }
       ],
       "layout": {
        "legend": {
         "tracegroupgap": 0
        },
        "template": {
         "data": {
          "bar": [
           {
            "error_x": {
             "color": "#2a3f5f"
            },
            "error_y": {
             "color": "#2a3f5f"
            },
            "marker": {
             "line": {
              "color": "white",
              "width": 0.5
             },
             "pattern": {
              "fillmode": "overlay",
              "size": 10,
              "solidity": 0.2
             }
            },
            "type": "bar"
           }
          ],
          "barpolar": [
           {
            "marker": {
             "line": {
              "color": "white",
              "width": 0.5
             },
             "pattern": {
              "fillmode": "overlay",
              "size": 10,
              "solidity": 0.2
             }
            },
            "type": "barpolar"
           }
          ],
          "carpet": [
           {
            "aaxis": {
             "endlinecolor": "#2a3f5f",
             "gridcolor": "#C8D4E3",
             "linecolor": "#C8D4E3",
             "minorgridcolor": "#C8D4E3",
             "startlinecolor": "#2a3f5f"
            },
            "baxis": {
             "endlinecolor": "#2a3f5f",
             "gridcolor": "#C8D4E3",
             "linecolor": "#C8D4E3",
             "minorgridcolor": "#C8D4E3",
             "startlinecolor": "#2a3f5f"
            },
            "type": "carpet"
           }
          ],
          "choropleth": [
           {
            "colorbar": {
             "outlinewidth": 0,
             "ticks": ""
            },
            "type": "choropleth"
           }
          ],
          "contour": [
           {
            "colorbar": {
             "outlinewidth": 0,
             "ticks": ""
            },
            "colorscale": [
             [
              0,
              "#0d0887"
             ],
             [
              0.1111111111111111,
              "#46039f"
             ],
             [
              0.2222222222222222,
              "#7201a8"
             ],
             [
              0.3333333333333333,
              "#9c179e"
             ],
             [
              0.4444444444444444,
              "#bd3786"
             ],
             [
              0.5555555555555556,
              "#d8576b"
             ],
             [
              0.6666666666666666,
              "#ed7953"
             ],
             [
              0.7777777777777778,
              "#fb9f3a"
             ],
             [
              0.8888888888888888,
              "#fdca26"
             ],
             [
              1,
              "#f0f921"
             ]
            ],
            "type": "contour"
           }
          ],
          "contourcarpet": [
           {
            "colorbar": {
             "outlinewidth": 0,
             "ticks": ""
            },
            "type": "contourcarpet"
           }
          ],
          "heatmap": [
           {
            "colorbar": {
             "outlinewidth": 0,
             "ticks": ""
            },
            "colorscale": [
             [
              0,
              "#0d0887"
             ],
             [
              0.1111111111111111,
              "#46039f"
             ],
             [
              0.2222222222222222,
              "#7201a8"
             ],
             [
              0.3333333333333333,
              "#9c179e"
             ],
             [
              0.4444444444444444,
              "#bd3786"
             ],
             [
              0.5555555555555556,
              "#d8576b"
             ],
             [
              0.6666666666666666,
              "#ed7953"
             ],
             [
              0.7777777777777778,
              "#fb9f3a"
             ],
             [
              0.8888888888888888,
              "#fdca26"
             ],
             [
              1,
              "#f0f921"
             ]
            ],
            "type": "heatmap"
           }
          ],
          "histogram": [
           {
            "marker": {
             "pattern": {
              "fillmode": "overlay",
              "size": 10,
              "solidity": 0.2
             }
            },
            "type": "histogram"
           }
          ],
          "histogram2d": [
           {
            "colorbar": {
             "outlinewidth": 0,
             "ticks": ""
            },
            "colorscale": [
             [
              0,
              "#0d0887"
             ],
             [
              0.1111111111111111,
              "#46039f"
             ],
             [
              0.2222222222222222,
              "#7201a8"
             ],
             [
              0.3333333333333333,
              "#9c179e"
             ],
             [
              0.4444444444444444,
              "#bd3786"
             ],
             [
              0.5555555555555556,
              "#d8576b"
             ],
             [
              0.6666666666666666,
              "#ed7953"
             ],
             [
              0.7777777777777778,
              "#fb9f3a"
             ],
             [
              0.8888888888888888,
              "#fdca26"
             ],
             [
              1,
              "#f0f921"
             ]
            ],
            "type": "histogram2d"
           }
          ],
          "histogram2dcontour": [
           {
            "colorbar": {
             "outlinewidth": 0,
             "ticks": ""
            },
            "colorscale": [
             [
              0,
              "#0d0887"
             ],
             [
              0.1111111111111111,
              "#46039f"
             ],
             [
              0.2222222222222222,
              "#7201a8"
             ],
             [
              0.3333333333333333,
              "#9c179e"
             ],
             [
              0.4444444444444444,
              "#bd3786"
             ],
             [
              0.5555555555555556,
              "#d8576b"
             ],
             [
              0.6666666666666666,
              "#ed7953"
             ],
             [
              0.7777777777777778,
              "#fb9f3a"
             ],
             [
              0.8888888888888888,
              "#fdca26"
             ],
             [
              1,
              "#f0f921"
             ]
            ],
            "type": "histogram2dcontour"
           }
          ],
          "mesh3d": [
           {
            "colorbar": {
             "outlinewidth": 0,
             "ticks": ""
            },
            "type": "mesh3d"
           }
          ],
          "parcoords": [
           {
            "line": {
             "colorbar": {
              "outlinewidth": 0,
              "ticks": ""
             }
            },
            "type": "parcoords"
           }
          ],
          "pie": [
           {
            "automargin": true,
            "type": "pie"
           }
          ],
          "scatter": [
           {
            "fillpattern": {
             "fillmode": "overlay",
             "size": 10,
             "solidity": 0.2
            },
            "type": "scatter"
           }
          ],
          "scatter3d": [
           {
            "line": {
             "colorbar": {
              "outlinewidth": 0,
              "ticks": ""
             }
            },
            "marker": {
             "colorbar": {
              "outlinewidth": 0,
              "ticks": ""
             }
            },
            "type": "scatter3d"
           }
          ],
          "scattercarpet": [
           {
            "marker": {
             "colorbar": {
              "outlinewidth": 0,
              "ticks": ""
             }
            },
            "type": "scattercarpet"
           }
          ],
          "scattergeo": [
           {
            "marker": {
             "colorbar": {
              "outlinewidth": 0,
              "ticks": ""
             }
            },
            "type": "scattergeo"
           }
          ],
          "scattergl": [
           {
            "marker": {
             "colorbar": {
              "outlinewidth": 0,
              "ticks": ""
             }
            },
            "type": "scattergl"
           }
          ],
          "scattermap": [
           {
            "marker": {
             "colorbar": {
              "outlinewidth": 0,
              "ticks": ""
             }
            },
            "type": "scattermap"
           }
          ],
          "scattermapbox": [
           {
            "marker": {
             "colorbar": {
              "outlinewidth": 0,
              "ticks": ""
             }
            },
            "type": "scattermapbox"
           }
          ],
          "scatterpolar": [
           {
            "marker": {
             "colorbar": {
              "outlinewidth": 0,
              "ticks": ""
             }
            },
            "type": "scatterpolar"
           }
          ],
          "scatterpolargl": [
           {
            "marker": {
             "colorbar": {
              "outlinewidth": 0,
              "ticks": ""
             }
            },
            "type": "scatterpolargl"
           }
          ],
          "scatterternary": [
           {
            "marker": {
             "colorbar": {
              "outlinewidth": 0,
              "ticks": ""
             }
            },
            "type": "scatterternary"
           }
          ],
          "surface": [
           {
            "colorbar": {
             "outlinewidth": 0,
             "ticks": ""
            },
            "colorscale": [
             [
              0,
              "#0d0887"
             ],
             [
              0.1111111111111111,
              "#46039f"
             ],
             [
              0.2222222222222222,
              "#7201a8"
             ],
             [
              0.3333333333333333,
              "#9c179e"
             ],
             [
              0.4444444444444444,
              "#bd3786"
             ],
             [
              0.5555555555555556,
              "#d8576b"
             ],
             [
              0.6666666666666666,
              "#ed7953"
             ],
             [
              0.7777777777777778,
              "#fb9f3a"
             ],
             [
              0.8888888888888888,
              "#fdca26"
             ],
             [
              1,
              "#f0f921"
             ]
            ],
            "type": "surface"
           }
          ],
          "table": [
           {
            "cells": {
             "fill": {
              "color": "#EBF0F8"
             },
             "line": {
              "color": "white"
             }
            },
            "header": {
             "fill": {
              "color": "#C8D4E3"
             },
             "line": {
              "color": "white"
             }
            },
            "type": "table"
           }
          ]
         },
         "layout": {
          "annotationdefaults": {
           "arrowcolor": "#2a3f5f",
           "arrowhead": 0,
           "arrowwidth": 1
          },
          "autotypenumbers": "strict",
          "coloraxis": {
           "colorbar": {
            "outlinewidth": 0,
            "ticks": ""
           }
          },
          "colorscale": {
           "diverging": [
            [
             0,
             "#8e0152"
            ],
            [
             0.1,
             "#c51b7d"
            ],
            [
             0.2,
             "#de77ae"
            ],
            [
             0.3,
             "#f1b6da"
            ],
            [
             0.4,
             "#fde0ef"
            ],
            [
             0.5,
             "#f7f7f7"
            ],
            [
             0.6,
             "#e6f5d0"
            ],
            [
             0.7,
             "#b8e186"
            ],
            [
             0.8,
             "#7fbc41"
            ],
            [
             0.9,
             "#4d9221"
            ],
            [
             1,
             "#276419"
            ]
           ],
           "sequential": [
            [
             0,
             "#0d0887"
            ],
            [
             0.1111111111111111,
             "#46039f"
            ],
            [
             0.2222222222222222,
             "#7201a8"
            ],
            [
             0.3333333333333333,
             "#9c179e"
            ],
            [
             0.4444444444444444,
             "#bd3786"
            ],
            [
             0.5555555555555556,
             "#d8576b"
            ],
            [
             0.6666666666666666,
             "#ed7953"
            ],
            [
             0.7777777777777778,
             "#fb9f3a"
            ],
            [
             0.8888888888888888,
             "#fdca26"
            ],
            [
             1,
             "#f0f921"
            ]
           ],
           "sequentialminus": [
            [
             0,
             "#0d0887"
            ],
            [
             0.1111111111111111,
             "#46039f"
            ],
            [
             0.2222222222222222,
             "#7201a8"
            ],
            [
             0.3333333333333333,
             "#9c179e"
            ],
            [
             0.4444444444444444,
             "#bd3786"
            ],
            [
             0.5555555555555556,
             "#d8576b"
            ],
            [
             0.6666666666666666,
             "#ed7953"
            ],
            [
             0.7777777777777778,
             "#fb9f3a"
            ],
            [
             0.8888888888888888,
             "#fdca26"
            ],
            [
             1,
             "#f0f921"
            ]
           ]
          },
          "colorway": [
           "#636efa",
           "#EF553B",
           "#00cc96",
           "#ab63fa",
           "#FFA15A",
           "#19d3f3",
           "#FF6692",
           "#B6E880",
           "#FF97FF",
           "#FECB52"
          ],
          "font": {
           "color": "#2a3f5f"
          },
          "geo": {
           "bgcolor": "white",
           "lakecolor": "white",
           "landcolor": "white",
           "showlakes": true,
           "showland": true,
           "subunitcolor": "#C8D4E3"
          },
          "hoverlabel": {
           "align": "left"
          },
          "hovermode": "closest",
          "mapbox": {
           "style": "light"
          },
          "paper_bgcolor": "white",
          "plot_bgcolor": "white",
          "polar": {
           "angularaxis": {
            "gridcolor": "#EBF0F8",
            "linecolor": "#EBF0F8",
            "ticks": ""
           },
           "bgcolor": "white",
           "radialaxis": {
            "gridcolor": "#EBF0F8",
            "linecolor": "#EBF0F8",
            "ticks": ""
           }
          },
          "scene": {
           "xaxis": {
            "backgroundcolor": "white",
            "gridcolor": "#DFE8F3",
            "gridwidth": 2,
            "linecolor": "#EBF0F8",
            "showbackground": true,
            "ticks": "",
            "zerolinecolor": "#EBF0F8"
           },
           "yaxis": {
            "backgroundcolor": "white",
            "gridcolor": "#DFE8F3",
            "gridwidth": 2,
            "linecolor": "#EBF0F8",
            "showbackground": true,
            "ticks": "",
            "zerolinecolor": "#EBF0F8"
           },
           "zaxis": {
            "backgroundcolor": "white",
            "gridcolor": "#DFE8F3",
            "gridwidth": 2,
            "linecolor": "#EBF0F8",
            "showbackground": true,
            "ticks": "",
            "zerolinecolor": "#EBF0F8"
           }
          },
          "shapedefaults": {
           "line": {
            "color": "#2a3f5f"
           }
          },
          "ternary": {
           "aaxis": {
            "gridcolor": "#DFE8F3",
            "linecolor": "#A2B1C6",
            "ticks": ""
           },
           "baxis": {
            "gridcolor": "#DFE8F3",
            "linecolor": "#A2B1C6",
            "ticks": ""
           },
           "bgcolor": "white",
           "caxis": {
            "gridcolor": "#DFE8F3",
            "linecolor": "#A2B1C6",
            "ticks": ""
           }
          },
          "title": {
           "x": 0.05
          },
          "xaxis": {
           "automargin": true,
           "gridcolor": "#EBF0F8",
           "linecolor": "#EBF0F8",
           "ticks": "",
           "title": {
            "standoff": 15
           },
           "zerolinecolor": "#EBF0F8",
           "zerolinewidth": 2
          },
          "yaxis": {
           "automargin": true,
           "gridcolor": "#EBF0F8",
           "linecolor": "#EBF0F8",
           "ticks": "",
           "title": {
            "standoff": 15
           },
           "zerolinecolor": "#EBF0F8",
           "zerolinewidth": 2
          }
         }
        },
        "title": {
         "text": "Content Added Over Time"
        },
        "xaxis": {
         "anchor": "y",
         "domain": [
          0,
          1
         ],
         "tickangle": 45,
         "title": {
          "text": "Year-Month"
         }
        },
        "yaxis": {
         "anchor": "x",
         "domain": [
          0,
          1
         ],
         "title": {
          "text": "Number of Movies and TV Shows Added"
         }
        }
       }
      }
     },
     "metadata": {},
     "output_type": "display_data"
    }
   ],
   "source": [
    "# Grouping by year and month of 'date_added' and counting the number of entries\n",
    "df['year_month_added'] = df['date_added'].dt.to_period('M')\n",
    "content_added_over_time = df.groupby('year_month_added').size()\n",
    "\n",
    "# Plotting the data using Plotly\n",
    "import plotly.express as px\n",
    "\n",
    "fig = px.line(content_added_over_time, \n",
    "              x=content_added_over_time.index.astype(str), \n",
    "              y=content_added_over_time.values, \n",
    "              markers=True, \n",
    "              title='Content Added Over Time')\n",
    "\n",
    "fig.update_layout(\n",
    "    xaxis_title='Year-Month',\n",
    "    yaxis_title='Number of Movies and TV Shows Added',\n",
    "    xaxis=dict(tickangle=45),\n",
    "    template='plotly_white'\n",
    ")\n",
    "\n",
    "fig.show()"
   ]
  },
  {
   "cell_type": "markdown",
   "id": "afc10231",
   "metadata": {},
   "source": [
    "### 5. Top Genres:"
   ]
  },
  {
   "cell_type": "code",
   "execution_count": 270,
   "id": "243a3311",
   "metadata": {},
   "outputs": [
    {
     "name": "stderr",
     "output_type": "stream",
     "text": [
      "C:\\Users\\Dell\\AppData\\Local\\Temp\\ipykernel_2172\\196522193.py:6: FutureWarning:\n",
      "\n",
      "\n",
      "\n",
      "Passing `palette` without assigning `hue` is deprecated and will be removed in v0.14.0. Assign the `x` variable to `hue` and set `legend=False` for the same effect.\n",
      "\n",
      "\n"
     ]
    },
    {
     "data": {
      "image/png": "[encoded data removed]",
      "text/plain": [
       "<Figure size 1200x600 with 1 Axes>"
      ]
     },
     "metadata": {},
     "output_type": "display_data"
    }
   ],
   "source": [
    "# Filter the dataset for shows only\n",
    "shows_genre_counts = df[df['type'] == 'TV Show']['genre'].value_counts().head(10)\n",
    "\n",
    "# Create a bar plot for the top 10 genres\n",
    "plt.figure(figsize=(12, 6))\n",
    "sns.barplot(x=shows_genre_counts.index, y=shows_genre_counts.values, palette='viridis')\n",
    "plt.title('Top 10 Genres of TV Shows')\n",
    "plt.xlabel('Genre')\n",
    "plt.ylabel('Count')\n",
    "plt.xticks(rotation=45)\n",
    "plt.show()"
   ]
  },
  {
   "cell_type": "code",
   "execution_count": 271,
   "id": "d1d49dc6",
   "metadata": {},
   "outputs": [
    {
     "name": "stderr",
     "output_type": "stream",
     "text": [
      "C:\\Users\\Dell\\AppData\\Local\\Temp\\ipykernel_2172\\1777637079.py:6: FutureWarning:\n",
      "\n",
      "\n",
      "\n",
      "Passing `palette` without assigning `hue` is deprecated and will be removed in v0.14.0. Assign the `x` variable to `hue` and set `legend=False` for the same effect.\n",
      "\n",
      "\n"
     ]
    },
    {
     "data": {
      "image/png": "[encoded data removed]",
      "text/plain": [
       "<Figure size 1200x600 with 1 Axes>"
      ]
     },
     "metadata": {},
     "output_type": "display_data"
    }
   ],
   "source": [
    "# Filter the dataset for movies only\n",
    "movies_genre_counts = df[df['type'] == 'Movie']['genre'].value_counts().head(10)\n",
    "\n",
    "# Create a bar plot for the top 10 genres\n",
    "plt.figure(figsize=(12, 6))\n",
    "sns.barplot(x=movies_genre_counts.index, y=movies_genre_counts.values, palette='viridis')\n",
    "plt.title('Top 10 Movie Genres')\n",
    "plt.xlabel('Genre')\n",
    "plt.ylabel('Count')\n",
    "plt.xticks(rotation=45)\n",
    "plt.tight_layout()\n",
    "plt.show()"
   ]
  },
  {
   "cell_type": "markdown",
   "id": "f327d8fd",
   "metadata": {},
   "source": [
    "### 6. Season Counts for TV Shows:"
   ]
  },
  {
   "cell_type": "code",
   "execution_count": 272,
   "id": "e848b5f4",
   "metadata": {},
   "outputs": [
    {
     "data": {
      "application/vnd.plotly.v1+json": {
       "config": {
        "plotlyServerURL": "https://plot.ly"
       },
       "data": [
        {
         "hovertemplate": "Number of Seasons=%{x}<br>Count=%{y}<br>text=%{text}<extra></extra>",
         "legendgroup": "",
         "marker": {
          "color": "#636efa",
          "pattern": {
           "shape": ""
          }
         },
         "name": "",
         "orientation": "v",
         "showlegend": false,
         "text": {
          "bdata": "AAAAAAAEnEAAAAAAAFB6QAAAAAAAwGhAAAAAAACAV0AAAAAAAABQQAAAAAAAgEBAAAAAAAAAN0AAAAAAAAAxQAAAAAAAACJAAAAAAAAAGEAAAAAAAAAAQAAAAAAAAABAAAAAAAAAAEAAAAAAAADwPwAAAAAAAPA/",
          "dtype": "f8"
         },
         "textposition": "outside",
         "type": "bar",
         "x": [
          "1 Season",
          "2 Seasons",
          "3 Seasons",
          "4 Seasons",
          "5 Seasons",
          "6 Seasons",
          "7 Seasons",
          "8 Seasons",
          "9 Seasons",
          "10 Seasons",
          "13 Seasons",
          "15 Seasons",
          "12 Seasons",
          "17 Seasons",
          "11 Seasons"
         ],
         "xaxis": "x",
         "y": {
          "bdata": "AQelAcYAXgBAACEAFwARAAkABgACAAIAAgABAAEA",
          "dtype": "i2"
         },
         "yaxis": "y"
        }
       ],
       "layout": {
        "barmode": "relative",
        "height": 500,
        "legend": {
         "tracegroupgap": 0
        },
        "template": {
         "data": {
          "bar": [
           {
            "error_x": {
             "color": "#2a3f5f"
            },
            "error_y": {
             "color": "#2a3f5f"
            },
            "marker": {
             "line": {
              "color": "white",
              "width": 0.5
             },
             "pattern": {
              "fillmode": "overlay",
              "size": 10,
              "solidity": 0.2
             }
            },
            "type": "bar"
           }
          ],
          "barpolar": [
           {
            "marker": {
             "line": {
              "color": "white",
              "width": 0.5
             },
             "pattern": {
              "fillmode": "overlay",
              "size": 10,
              "solidity": 0.2
             }
            },
            "type": "barpolar"
           }
          ],
          "carpet": [
           {
            "aaxis": {
             "endlinecolor": "#2a3f5f",
             "gridcolor": "#C8D4E3",
             "linecolor": "#C8D4E3",
             "minorgridcolor": "#C8D4E3",
             "startlinecolor": "#2a3f5f"
            },
            "baxis": {
             "endlinecolor": "#2a3f5f",
             "gridcolor": "#C8D4E3",
             "linecolor": "#C8D4E3",
             "minorgridcolor": "#C8D4E3",
             "startlinecolor": "#2a3f5f"
            },
            "type": "carpet"
           }
          ],
          "choropleth": [
           {
            "colorbar": {
             "outlinewidth": 0,
             "ticks": ""
            },
            "type": "choropleth"
           }
          ],
          "contour": [
           {
            "colorbar": {
             "outlinewidth": 0,
             "ticks": ""
            },
            "colorscale": [
             [
              0,
              "#0d0887"
             ],
             [
              0.1111111111111111,
              "#46039f"
             ],
             [
              0.2222222222222222,
              "#7201a8"
             ],
             [
              0.3333333333333333,
              "#9c179e"
             ],
             [
              0.4444444444444444,
              "#bd3786"
             ],
             [
              0.5555555555555556,
              "#d8576b"
             ],
             [
              0.6666666666666666,
              "#ed7953"
             ],
             [
              0.7777777777777778,
              "#fb9f3a"
             ],
             [
              0.8888888888888888,
              "#fdca26"
             ],
             [
              1,
              "#f0f921"
             ]
            ],
            "type": "contour"
           }
          ],
          "contourcarpet": [
           {
            "colorbar": {
             "outlinewidth": 0,
             "ticks": ""
            },
            "type": "contourcarpet"
           }
          ],
          "heatmap": [
           {
            "colorbar": {
             "outlinewidth": 0,
             "ticks": ""
            },
            "colorscale": [
             [
              0,
              "#0d0887"
             ],
             [
              0.1111111111111111,
              "#46039f"
             ],
             [
              0.2222222222222222,
              "#7201a8"
             ],
             [
              0.3333333333333333,
              "#9c179e"
             ],
             [
              0.4444444444444444,
              "#bd3786"
             ],
             [
              0.5555555555555556,
              "#d8576b"
             ],
             [
              0.6666666666666666,
              "#ed7953"
             ],
             [
              0.7777777777777778,
              "#fb9f3a"
             ],
             [
              0.8888888888888888,
              "#fdca26"
             ],
             [
              1,
              "#f0f921"
             ]
            ],
            "type": "heatmap"
           }
          ],
          "histogram": [
           {
            "marker": {
             "pattern": {
              "fillmode": "overlay",
              "size": 10,
              "solidity": 0.2
             }
            },
            "type": "histogram"
           }
          ],
          "histogram2d": [
           {
            "colorbar": {
             "outlinewidth": 0,
             "ticks": ""
            },
            "colorscale": [
             [
              0,
              "#0d0887"
             ],
             [
              0.1111111111111111,
              "#46039f"
             ],
             [
              0.2222222222222222,
              "#7201a8"
             ],
             [
              0.3333333333333333,
              "#9c179e"
             ],
             [
              0.4444444444444444,
              "#bd3786"
             ],
             [
              0.5555555555555556,
              "#d8576b"
             ],
             [
              0.6666666666666666,
              "#ed7953"
             ],
             [
              0.7777777777777778,
              "#fb9f3a"
             ],
             [
              0.8888888888888888,
              "#fdca26"
             ],
             [
              1,
              "#f0f921"
             ]
            ],
            "type": "histogram2d"
           }
          ],
          "histogram2dcontour": [
           {
            "colorbar": {
             "outlinewidth": 0,
             "ticks": ""
            },
            "colorscale": [
             [
              0,
              "#0d0887"
             ],
             [
              0.1111111111111111,
              "#46039f"
             ],
             [
              0.2222222222222222,
              "#7201a8"
             ],
             [
              0.3333333333333333,
              "#9c179e"
             ],
             [
              0.4444444444444444,
              "#bd3786"
             ],
             [
              0.5555555555555556,
              "#d8576b"
             ],
             [
              0.6666666666666666,
              "#ed7953"
             ],
             [
              0.7777777777777778,
              "#fb9f3a"
             ],
             [
              0.8888888888888888,
              "#fdca26"
             ],
             [
              1,
              "#f0f921"
             ]
            ],
            "type": "histogram2dcontour"
           }
          ],
          "mesh3d": [
           {
            "colorbar": {
             "outlinewidth": 0,
             "ticks": ""
            },
            "type": "mesh3d"
           }
          ],
          "parcoords": [
           {
            "line": {
             "colorbar": {
              "outlinewidth": 0,
              "ticks": ""
             }
            },
            "type": "parcoords"
           }
          ],
          "pie": [
           {
            "automargin": true,
            "type": "pie"
           }
          ],
          "scatter": [
           {
            "fillpattern": {
             "fillmode": "overlay",
             "size": 10,
             "solidity": 0.2
            },
            "type": "scatter"
           }
          ],
          "scatter3d": [
           {
            "line": {
             "colorbar": {
              "outlinewidth": 0,
              "ticks": ""
             }
            },
            "marker": {
             "colorbar": {
              "outlinewidth": 0,
              "ticks": ""
             }
            },
            "type": "scatter3d"
           }
          ],
          "scattercarpet": [
           {
            "marker": {
             "colorbar": {
              "outlinewidth": 0,
              "ticks": ""
             }
            },
            "type": "scattercarpet"
           }
          ],
          "scattergeo": [
           {
            "marker": {
             "colorbar": {
              "outlinewidth": 0,
              "ticks": ""
             }
            },
            "type": "scattergeo"
           }
          ],
          "scattergl": [
           {
            "marker": {
             "colorbar": {
              "outlinewidth": 0,
              "ticks": ""
             }
            },
            "type": "scattergl"
           }
          ],
          "scattermap": [
           {
            "marker": {
             "colorbar": {
              "outlinewidth": 0,
              "ticks": ""
             }
            },
            "type": "scattermap"
           }
          ],
          "scattermapbox": [
           {
            "marker": {
             "colorbar": {
              "outlinewidth": 0,
              "ticks": ""
             }
            },
            "type": "scattermapbox"
           }
          ],
          "scatterpolar": [
           {
            "marker": {
             "colorbar": {
              "outlinewidth": 0,
              "ticks": ""
             }
            },
            "type": "scatterpolar"
           }
          ],
          "scatterpolargl": [
           {
            "marker": {
             "colorbar": {
              "outlinewidth": 0,
              "ticks": ""
             }
            },
            "type": "scatterpolargl"
           }
          ],
          "scatterternary": [
           {
            "marker": {
             "colorbar": {
              "outlinewidth": 0,
              "ticks": ""
             }
            },
            "type": "scatterternary"
           }
          ],
          "surface": [
           {
            "colorbar": {
             "outlinewidth": 0,
             "ticks": ""
            },
            "colorscale": [
             [
              0,
              "#0d0887"
             ],
             [
              0.1111111111111111,
              "#46039f"
             ],
             [
              0.2222222222222222,
              "#7201a8"
             ],
             [
              0.3333333333333333,
              "#9c179e"
             ],
             [
              0.4444444444444444,
              "#bd3786"
             ],
             [
              0.5555555555555556,
              "#d8576b"
             ],
             [
              0.6666666666666666,
              "#ed7953"
             ],
             [
              0.7777777777777778,
              "#fb9f3a"
             ],
             [
              0.8888888888888888,
              "#fdca26"
             ],
             [
              1,
              "#f0f921"
             ]
            ],
            "type": "surface"
           }
          ],
          "table": [
           {
            "cells": {
             "fill": {
              "color": "#EBF0F8"
             },
             "line": {
              "color": "white"
             }
            },
            "header": {
             "fill": {
              "color": "#C8D4E3"
             },
             "line": {
              "color": "white"
             }
            },
            "type": "table"
           }
          ]
         },
         "layout": {
          "annotationdefaults": {
           "arrowcolor": "#2a3f5f",
           "arrowhead": 0,
           "arrowwidth": 1
          },
          "autotypenumbers": "strict",
          "coloraxis": {
           "colorbar": {
            "outlinewidth": 0,
            "ticks": ""
           }
          },
          "colorscale": {
           "diverging": [
            [
             0,
             "#8e0152"
            ],
            [
             0.1,
             "#c51b7d"
            ],
            [
             0.2,
             "#de77ae"
            ],
            [
             0.3,
             "#f1b6da"
            ],
            [
             0.4,
             "#fde0ef"
            ],
            [
             0.5,
             "#f7f7f7"
            ],
            [
             0.6,
             "#e6f5d0"
            ],
            [
             0.7,
             "#b8e186"
            ],
            [
             0.8,
             "#7fbc41"
            ],
            [
             0.9,
             "#4d9221"
            ],
            [
             1,
             "#276419"
            ]
           ],
           "sequential": [
            [
             0,
             "#0d0887"
            ],
            [
             0.1111111111111111,
             "#46039f"
            ],
            [
             0.2222222222222222,
             "#7201a8"
            ],
            [
             0.3333333333333333,
             "#9c179e"
            ],
            [
             0.4444444444444444,
             "#bd3786"
            ],
            [
             0.5555555555555556,
             "#d8576b"
            ],
            [
             0.6666666666666666,
             "#ed7953"
            ],
            [
             0.7777777777777778,
             "#fb9f3a"
            ],
            [
             0.8888888888888888,
             "#fdca26"
            ],
            [
             1,
             "#f0f921"
            ]
           ],
           "sequentialminus": [
            [
             0,
             "#0d0887"
            ],
            [
             0.1111111111111111,
             "#46039f"
            ],
            [
             0.2222222222222222,
             "#7201a8"
            ],
            [
             0.3333333333333333,
             "#9c179e"
            ],
            [
             0.4444444444444444,
             "#bd3786"
            ],
            [
             0.5555555555555556,
             "#d8576b"
            ],
            [
             0.6666666666666666,
             "#ed7953"
            ],
            [
             0.7777777777777778,
             "#fb9f3a"
            ],
            [
             0.8888888888888888,
             "#fdca26"
            ],
            [
             1,
             "#f0f921"
            ]
           ]
          },
          "colorway": [
           "#636efa",
           "#EF553B",
           "#00cc96",
           "#ab63fa",
           "#FFA15A",
           "#19d3f3",
           "#FF6692",
           "#B6E880",
           "#FF97FF",
           "#FECB52"
          ],
          "font": {
           "color": "#2a3f5f"
          },
          "geo": {
           "bgcolor": "white",
           "lakecolor": "white",
           "landcolor": "white",
           "showlakes": true,
           "showland": true,
           "subunitcolor": "#C8D4E3"
          },
          "hoverlabel": {
           "align": "left"
          },
          "hovermode": "closest",
          "mapbox": {
           "style": "light"
          },
          "paper_bgcolor": "white",
          "plot_bgcolor": "white",
          "polar": {
           "angularaxis": {
            "gridcolor": "#EBF0F8",
            "linecolor": "#EBF0F8",
            "ticks": ""
           },
           "bgcolor": "white",
           "radialaxis": {
            "gridcolor": "#EBF0F8",
            "linecolor": "#EBF0F8",
            "ticks": ""
           }
          },
          "scene": {
           "xaxis": {
            "backgroundcolor": "white",
            "gridcolor": "#DFE8F3",
            "gridwidth": 2,
            "linecolor": "#EBF0F8",
            "showbackground": true,
            "ticks": "",
            "zerolinecolor": "#EBF0F8"
           },
           "yaxis": {
            "backgroundcolor": "white",
            "gridcolor": "#DFE8F3",
            "gridwidth": 2,
            "linecolor": "#EBF0F8",
            "showbackground": true,
            "ticks": "",
            "zerolinecolor": "#EBF0F8"
           },
           "zaxis": {
            "backgroundcolor": "white",
            "gridcolor": "#DFE8F3",
            "gridwidth": 2,
            "linecolor": "#EBF0F8",
            "showbackground": true,
            "ticks": "",
            "zerolinecolor": "#EBF0F8"
           }
          },
          "shapedefaults": {
           "line": {
            "color": "#2a3f5f"
           }
          },
          "ternary": {
           "aaxis": {
            "gridcolor": "#DFE8F3",
            "linecolor": "#A2B1C6",
            "ticks": ""
           },
           "baxis": {
            "gridcolor": "#DFE8F3",
            "linecolor": "#A2B1C6",
            "ticks": ""
           },
           "bgcolor": "white",
           "caxis": {
            "gridcolor": "#DFE8F3",
            "linecolor": "#A2B1C6",
            "ticks": ""
           }
          },
          "title": {
           "x": 0.05
          },
          "xaxis": {
           "automargin": true,
           "gridcolor": "#EBF0F8",
           "linecolor": "#EBF0F8",
           "ticks": "",
           "title": {
            "standoff": 15
           },
           "zerolinecolor": "#EBF0F8",
           "zerolinewidth": 2
          },
          "yaxis": {
           "automargin": true,
           "gridcolor": "#EBF0F8",
           "linecolor": "#EBF0F8",
           "ticks": "",
           "title": {
            "standoff": 15
           },
           "zerolinecolor": "#EBF0F8",
           "zerolinewidth": 2
          }
         }
        },
        "title": {
         "text": "Distribution of Season Counts for TV Shows"
        },
        "xaxis": {
         "anchor": "y",
         "domain": [
          0,
          1
         ],
         "tickangle": 45,
         "title": {
          "text": "Number of Seasons"
         }
        },
        "yaxis": {
         "anchor": "x",
         "domain": [
          0,
          1
         ],
         "title": {
          "text": "Count"
         }
        }
       }
      }
     },
     "metadata": {},
     "output_type": "display_data"
    }
   ],
   "source": [
    "# Creating a bar chart for season counts\n",
    "fig = px.bar(\n",
    "    x=season_counts.index,\n",
    "    y=season_counts.values,\n",
    "    labels={'x': 'Number of Seasons', 'y': 'Count'},\n",
    "    title='Distribution of Season Counts for TV Shows',\n",
    "    text=season_counts.values\n",
    ")\n",
    "\n",
    "# Updating layout for better visualization\n",
    "fig.update_traces(textposition='outside')\n",
    "fig.update_layout(\n",
    "    xaxis=dict(tickangle=45),\n",
    "    template='plotly_white',\n",
    "    height=500  \n",
    ")\n",
    "\n",
    "fig.show()"
   ]
  },
  {
   "cell_type": "markdown",
   "id": "7d23ec1d",
   "metadata": {},
   "source": [
    "### 7. Top Countries With Most Content:"
   ]
  },
  {
   "cell_type": "code",
   "execution_count": 273,
   "id": "9330bc14",
   "metadata": {},
   "outputs": [
    {
     "name": "stderr",
     "output_type": "stream",
     "text": [
      "C:\\Users\\Dell\\AppData\\Local\\Temp\\ipykernel_2172\\3886193401.py:4: FutureWarning:\n",
      "\n",
      "\n",
      "\n",
      "Passing `palette` without assigning `hue` is deprecated and will be removed in v0.14.0. Assign the `x` variable to `hue` and set `legend=False` for the same effect.\n",
      "\n",
      "\n"
     ]
    },
    {
     "data": {
      "image/png": "[encoded data removed]",
      "text/plain": [
       "<Figure size 1200x600 with 1 Axes>"
      ]
     },
     "metadata": {},
     "output_type": "display_data"
    }
   ],
   "source": [
    "# creating bar plot of top 10 countries with most content\n",
    "top_10_countries = df['country'].value_counts().head(10)\n",
    "plt.figure(figsize=(12, 6))\n",
    "sns.barplot(x=top_10_countries.index, y=top_10_countries.values, palette='viridis')\n",
    "plt.title('Top 10 Countries with Most Content')\n",
    "plt.xlabel('Country')\n",
    "plt.ylabel('Count')\n",
    "plt.xticks(rotation=45)\n",
    "plt.show()"
   ]
  },
  {
   "cell_type": "markdown",
   "id": "41db17e8",
   "metadata": {},
   "source": [
    "\n",
    "# **Conclusion**\n",
    "\n",
    "This project provided an in-depth analysis of the Netflix dataset, focusing on cleaning, exploring, and visualizing the data to uncover meaningful insights. The dataset contained information about movies and TV shows, including attributes such as title, director, country, release year, rating, and duration. Through systematic data preprocessing, missing values were handled, irrelevant columns were dropped, and outliers were identified and removed to ensure the dataset's quality and reliability.\n",
    "\n",
    "The analysis revealed interesting trends and patterns. For instance, the distribution of content types showed a higher proportion of movies compared to TV shows. The duration of movies was analyzed, and outliers were removed using the IQR method to focus on realistic values. Similarly, the release year column was validated, confirming that it contained meaningful and realistic data. The dataset also highlighted the diversity of content, with genres like \"International Movies,\" \"Dramas,\" and \"Comedies\" being the most prevalent. Additionally, the top countries contributing to Netflix's content were identified, with the United States leading, followed by India and the United Kingdom.\n",
    "\n",
    "Visualizations played a crucial role in understanding the data. Pie charts, bar plots, and histograms were used to illustrate the distribution of content types, durations, ratings, and genres. Time-series analysis showed the trend of content being added over the years, providing insights into Netflix's growth and expansion. The project also explored the distribution of seasons for TV shows, confirming the absence of outliers in this category.\n",
    "\n",
    "Overall, this project demonstrated the importance of data cleaning, exploration, and visualization in deriving actionable insights from a dataset. By addressing missing values, handling outliers, and leveraging visualizations, we were able to uncover trends and patterns that provide a deeper understanding of Netflix's content library. This analysis can serve as a foundation for further studies, such as predicting user preferences or optimizing content recommendations.\n"
   ]
  },
  {
   "cell_type": "markdown",
   "id": "7c9dd109",
   "metadata": {},
   "source": [
    "\n",
    "## 👤 **About the Author**\n",
    "\n",
    "**Mughees Saleem**  \n",
    "📍 *Karachi, Pakistan*  \n",
    "\n",
    "Data Analyst | Data Scientist Enthusiast  \n",
    "\n",
    "<div align=\"center\">\n",
    "  <a href=\"mailto:mughees_saleem@outlook.com\" target=\"_blank\">\n",
    "    <img src=\"https://img.shields.io/badge/Email-D14836?style=for-the-badge&logo=gmail&logoColor=white\" alt=\"Email\"/>\n",
    "  </a>\n",
    "  <a href=\"https://www.linkedin.com/in/mughees-saleem-/\" target=\"_blank\">\n",
    "    <img src=\"https://img.shields.io/badge/LinkedIn-0077B5?style=for-the-badge&logo=linkedin&logoColor=white\" alt=\"LinkedIn\"/>\n",
    "  </a>\n",
    "  <a href=\"https://github.com/Mughees2005\" target=\"_blank\">\n",
    "    <img src=\"https://img.shields.io/badge/GitHub-333?style=for-the-badge&logo=github&logoColor=white\" alt=\"GitHub\"/>\n",
    "  </a>\n",
    "  <a href=\"https://www.kaggle.com/mugheessaleem\" target=\"_blank\">\n",
    "    <img src=\"https://img.shields.io/badge/Kaggle-20BEFF?style=for-the-badge&logo=kaggle&logoColor=white\" alt=\"Kaggle\"/>\n",
    "  </a>\n",
    "</div>\n"
   ]
  },
  {
   "cell_type": "markdown",
   "id": "1cd1c8f5",
   "metadata": {},
   "source": [
    "<div style=\"text-align: center;\">\n",
    "  <strong style=\"font-size: 22px;\">🙏 Thank You for Viewing My Project!</strong>\n",
    "</div>\n"
   ]
  }
 ],
 "metadata": {
  "kernelspec": {
   "display_name": "myenv",
   "language": "python",
   "name": "python3"
  },
  "language_info": {
   "codemirror_mode": {
    "name": "ipython",
    "version": 3
   },
   "file_extension": ".py",
   "mimetype": "text/x-python",
   "name": "python",
   "nbconvert_exporter": "python",
   "pygments_lexer": "ipython3",
   "version": "3.8.20"
  }
 },
 "nbformat": 4,
 "nbformat_minor": 5
}
